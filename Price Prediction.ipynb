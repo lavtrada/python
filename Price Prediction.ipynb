{
 "cells": [
  {
   "cell_type": "code",
   "execution_count": 204,
   "id": "478ec6a8-d072-48b2-a4a1-c65e0e1116a8",
   "metadata": {},
   "outputs": [],
   "source": [
    "import pandas as pd\n",
    "import numpy as np\n",
    "from sklearn.model_selection import train_test_split\n",
    "train_data=pd.read_csv(\"Salary_Table.csv\")\n",
    "predict_data=pd.read_excel(\"predict_data.xlsx\")\n",
    "train_data['Date_Time']=pd.to_datetime(train_data['Date_Time'],errors='coerce')\n",
    "predict_data['Date_Time']=pd.to_datetime(predict_data['Date_Time'],errors='coerce')\n",
    "# Feature engineering: Extract year, month, or day from Date_Time\n",
    "train_data['Year'] = train_data['Date_Time'].dt.year\n",
    "predict_data['Year'] = predict_data['Date_Time'].dt.year\n",
    "train_data = train_data.dropna(subset=['Date_Time', 'Experience', 'Previous_Salary', 'Current_Salary'])\n",
    "predict_data = predict_data.dropna(subset=['Date_Time', 'Experience', 'Previous_Salary'])\n",
    "\n",
    "X_train = train_data[['Experience', 'Previous_Salary', 'Year']]\n",
    "y_train = train_data['Current_Salary']\n",
    "# Features for prediction\n",
    "X_predict = predict_data[['Experience', 'Previous_Salary', 'Year']]\n",
    "\n",
    "X_train,X_test,y_train,y_test=train_test_split(X_train,y_train,test_size=0.2,random_state=20)\n",
    "reg=LinearRegression()\n",
    "reg.fit(X_train,y_train)\n",
    "predict_data['Predicted_curent_salary']=reg.predict(X_predict)\n",
    "predict_data.to_excel('predicted_salary.xlsx',index=False)"
   ]
  },
  {
   "cell_type": "code",
   "execution_count": null,
   "id": "d8d7d629-2241-44f0-9e80-35830f111ec5",
   "metadata": {},
   "outputs": [],
   "source": []
  },
  {
   "cell_type": "code",
   "execution_count": null,
   "id": "bfc02ddb-ea85-4201-a592-0e01033ffd61",
   "metadata": {},
   "outputs": [],
   "source": []
  }
 ],
 "metadata": {
  "kernelspec": {
   "display_name": "Python [conda env:base] *",
   "language": "python",
   "name": "conda-base-py"
  },
  "language_info": {
   "codemirror_mode": {
    "name": "ipython",
    "version": 3
   },
   "file_extension": ".py",
   "mimetype": "text/x-python",
   "name": "python",
   "nbconvert_exporter": "python",
   "pygments_lexer": "ipython3",
   "version": "3.12.7"
  }
 },
 "nbformat": 4,
 "nbformat_minor": 5
}
