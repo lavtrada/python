{
 "cells": [
  {
   "cell_type": "code",
   "id": "478ec6a8-d072-48b2-a4a1-c65e0e1116a8",
   "metadata": {
    "ExecuteTime": {
     "end_time": "2025-06-02T06:54:24.579381Z",
     "start_time": "2025-06-02T06:54:17.655804Z"
    }
   },
   "source": [
    "import pandas as pd\n",
    "import numpy as np\n",
    "from sklearn.model_selection import train_test_split\n",
    "train_data=pd.read_csv(\"Salary_Table.csv\")\n",
    "predict_data=pd.read_excel(\"predict_data.xlsx\")\n",
    "train_data['Date_Time']=pd.to_datetime(train_data['Date_Time'],errors='coerce')\n",
    "predict_data['Date_Time']=pd.to_datetime(predict_data['Date_Time'],errors='coerce')\n",
    "# Feature engineering: Extract year, month, or day from Date_Time\n",
    "train_data['Year'] = train_data['Date_Time'].dt.year\n",
    "predict_data['Year'] = predict_data['Date_Time'].dt.year\n",
    "train_data = train_data.dropna(subset=['Date_Time', 'Experience', 'Previous_Salary', 'Current_Salary'])\n",
    "predict_data = predict_data.dropna(subset=['Date_Time', 'Experience', 'Previous_Salary'])\n",
    "\n",
    "X_train = train_data[['Experience', 'Previous_Salary', 'Year']]\n",
    "y_train = train_data['Current_Salary']\n",
    "# Features for prediction\n",
    "X_predict = predict_data[['Experience', 'Previous_Salary', 'Year']]\n",
    "\n",
    "X_train,X_test,y_train,y_test=train_test_split(X_train,y_train,test_size=0.2,random_state=20)\n",
    "reg=LinearRegression()\n",
    "reg.fit(X_train,y_train)\n",
    "predict_data['Predicted_curent_salary']=reg.predict(X_predict)\n",
    "predict_data.to_excel('predicted_salary.xlsx',index=False)"
   ],
   "outputs": [
    {
     "ename": "ModuleNotFoundError",
     "evalue": "No module named 'sklearn'",
     "output_type": "error",
     "traceback": [
      "\u001B[1;31m---------------------------------------------------------------------------\u001B[0m",
      "\u001B[1;31mModuleNotFoundError\u001B[0m                       Traceback (most recent call last)",
      "Cell \u001B[1;32mIn[1], line 3\u001B[0m\n\u001B[0;32m      1\u001B[0m \u001B[38;5;28;01mimport\u001B[39;00m\u001B[38;5;250m \u001B[39m\u001B[38;5;21;01mpandas\u001B[39;00m\u001B[38;5;250m \u001B[39m\u001B[38;5;28;01mas\u001B[39;00m\u001B[38;5;250m \u001B[39m\u001B[38;5;21;01mpd\u001B[39;00m\n\u001B[0;32m      2\u001B[0m \u001B[38;5;28;01mimport\u001B[39;00m\u001B[38;5;250m \u001B[39m\u001B[38;5;21;01mnumpy\u001B[39;00m\u001B[38;5;250m \u001B[39m\u001B[38;5;28;01mas\u001B[39;00m\u001B[38;5;250m \u001B[39m\u001B[38;5;21;01mnp\u001B[39;00m\n\u001B[1;32m----> 3\u001B[0m \u001B[38;5;28;01mfrom\u001B[39;00m\u001B[38;5;250m \u001B[39m\u001B[38;5;21;01msklearn\u001B[39;00m\u001B[38;5;21;01m.\u001B[39;00m\u001B[38;5;21;01mmodel_selection\u001B[39;00m\u001B[38;5;250m \u001B[39m\u001B[38;5;28;01mimport\u001B[39;00m train_test_split\n\u001B[0;32m      4\u001B[0m train_data\u001B[38;5;241m=\u001B[39mpd\u001B[38;5;241m.\u001B[39mread_csv(\u001B[38;5;124m\"\u001B[39m\u001B[38;5;124mSalary_Table.csv\u001B[39m\u001B[38;5;124m\"\u001B[39m)\n\u001B[0;32m      5\u001B[0m predict_data\u001B[38;5;241m=\u001B[39mpd\u001B[38;5;241m.\u001B[39mread_excel(\u001B[38;5;124m\"\u001B[39m\u001B[38;5;124mpredict_data.xlsx\u001B[39m\u001B[38;5;124m\"\u001B[39m)\n",
      "\u001B[1;31mModuleNotFoundError\u001B[0m: No module named 'sklearn'"
     ]
    }
   ],
   "execution_count": 1
  },
  {
   "cell_type": "code",
   "execution_count": null,
   "id": "bfc02ddb-ea85-4201-a592-0e01033ffd61",
   "metadata": {},
   "outputs": [],
   "source": []
  }
 ],
 "metadata": {
  "kernelspec": {
   "display_name": "Python 3 (ipykernel)",
   "language": "python",
   "name": "python3"
  },
  "language_info": {
   "codemirror_mode": {
    "name": "ipython",
    "version": 3
   },
   "file_extension": ".py",
   "mimetype": "text/x-python",
   "name": "python",
   "nbconvert_exporter": "python",
   "pygments_lexer": "ipython3",
   "version": "3.12.7"
  }
 },
 "nbformat": 4,
 "nbformat_minor": 5
}
